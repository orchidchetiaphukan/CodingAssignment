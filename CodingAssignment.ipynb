{
  "nbformat": 4,
  "nbformat_minor": 0,
  "metadata": {
    "colab": {
      "name": "CodingAssignment.ipynb",
      "provenance": [],
      "collapsed_sections": [
        "fYjTY1BR012o",
        "se4TUsn30QYW",
        "WXYyspzC5k50"
      ]
    },
    "kernelspec": {
      "name": "python3",
      "display_name": "Python 3"
    },
    "language_info": {
      "name": "python"
    }
  },
  "cells": [
    {
      "cell_type": "code",
      "source": [
        "import pandas as pd\n",
        "import numpy as np\n",
        "import matplotlib.pyplot as plt\n",
        "import seaborn as sns\n",
        "import tensorflow as tf\n",
        "import torch"
      ],
      "metadata": {
        "id": "W5N587dT04IP"
      },
      "execution_count": null,
      "outputs": []
    },
    {
      "cell_type": "markdown",
      "source": [
        "#Problem 1\n",
        "\n",
        "Write a web scraping script which takes an input of any film actor and gives the output of filmography of that actor in descending order.\n",
        "\n",
        "Use web scraping method\n"
      ],
      "metadata": {
        "id": "fYjTY1BR012o"
      }
    },
    {
      "cell_type": "code",
      "source": [
        "! pip install IMDbPY"
      ],
      "metadata": {
        "id": "jptWY4q-4JDZ"
      },
      "execution_count": null,
      "outputs": []
    },
    {
      "cell_type": "code",
      "source": [
        "import imdb\n",
        "ia = imdb.IMDb() \n",
        "name = \"inception\" \n",
        "# Here the input is an movie of an actor, the acotr has acted\n",
        "# For Leonardo Dicarpio, its Inception\n",
        "search = ia.search_movie(name) \n",
        "movie_name = search[0]\n",
        "movie_ID = search[0].getID() # We get the movie ID from the iMDB database\n",
        "movie = ia.get_movie(movie_ID)\n",
        "print('Movie:', movie_name)\n",
        "print('ID:', movie_ID)"
      ],
      "metadata": {
        "id": "AUvu6w3i7Zk3",
        "outputId": "7bc62493-03a3-494a-a08e-f197e489fb1c",
        "colab": {
          "base_uri": "https://localhost:8080/"
        }
      },
      "execution_count": 23,
      "outputs": [
        {
          "output_type": "stream",
          "name": "stdout",
          "text": [
            "Movie: Inception\n",
            "ID: 1375666\n"
          ]
        }
      ]
    },
    {
      "cell_type": "code",
      "source": [
        "actor = movie['cast'][0]\n",
        "actor_ID = actor.getID()  # Taking out the actor ID \n",
        "print(\"Actor:\", actor)\n",
        "print(\"ID:\", actor_ID)"
      ],
      "metadata": {
        "colab": {
          "base_uri": "https://localhost:8080/"
        },
        "id": "Rv0WF4SRZRU0",
        "outputId": "06f20e86-0f61-41ab-fea0-25c285d68fc6"
      },
      "execution_count": 27,
      "outputs": [
        {
          "output_type": "stream",
          "name": "stdout",
          "text": [
            "Actor: Leonardo DiCaprio\n",
            "ID: 0000138\n"
          ]
        }
      ]
    },
    {
      "cell_type": "code",
      "execution_count": 39,
      "metadata": {
        "colab": {
          "base_uri": "https://localhost:8080/"
        },
        "id": "AW0Rp8fO0C7A",
        "outputId": "6c4b5b71-b8be-449f-854f-d5dc4c273886"
      },
      "outputs": [
        {
          "output_type": "execute_result",
          "data": {
            "text/plain": [
              "{'data': {'akas': ['Leonardo Di Caprio', 'Leo DiCaprio'],\n",
              "  'birth info': {'birth place': 'Hollywood, Los Angeles, California, USA'},\n",
              "  'filmography': {'actor': [<Movie id:7428530[http] title:_Roosevelt (2023)_>,\n",
              "    <Movie id:15909214[http] title:_Jim Jones () (None)_>,\n",
              "    <Movie id:5537002[http] title:_Killers of the Flower Moon (2022)_>,\n",
              "    <Movie id:11286314[http] title:_Don't Look Up (2021)_>,\n",
              "    <Movie id:7131622[http] title:_Once Upon a Time... In Hollywood (2019)_>,\n",
              "    <Movie id:1663202[http] title:_The Revenant (2015)_>,\n",
              "    <Movie id:4016250[http] title:_The Audition (III) (2015)_>,\n",
              "    <Movie id:0993846[http] title:_The Wolf of Wall Street (2013)_>,\n",
              "    <Movie id:1343092[http] title:_The Great Gatsby (2013)_>,\n",
              "    <Movie id:15739482[http] title:_Titanic: Deleted Scenes (2012)_>,\n",
              "    <Movie id:1853728[http] title:_Django Unchained (2012)_>,\n",
              "    <Movie id:1616195[http] title:_J. Edgar (2011)_>,\n",
              "    <Movie id:1790736[http] title:_Inception: Motion Comics (2010)_>,\n",
              "    <Movie id:1375666[http] title:_Inception (2010)_>,\n",
              "    <Movie id:1130884[http] title:_Shutter Island (2010)_>,\n",
              "    <Movie id:0959337[http] title:_Revolutionary Road (2008)_>,\n",
              "    <Movie id:0758774[http] title:_Body of Lies (2008)_>,\n",
              "    <Movie id:0450259[http] title:_Blood Diamond (2006)_>,\n",
              "    <Movie id:0407887[http] title:_The Departed (2006)_>,\n",
              "    <Movie id:0338751[http] title:_The Aviator (2004)_>,\n",
              "    <Movie id:0264464[http] title:_Catch Me If You Can (2002)_>,\n",
              "    <Movie id:0217505[http] title:_Gangs of New York (2002)_>,\n",
              "    <Movie id:0119004[http] title:_Don's Plum (2001)_>,\n",
              "    <Movie id:0163978[http] title:_The Beach (I) (2000)_>,\n",
              "    <Movie id:0120533[http] title:_Celebrity (1998)_>,\n",
              "    <Movie id:0120744[http] title:_The Man in the Iron Mask (I) (1998)_>,\n",
              "    <Movie id:0120338[http] title:_Titanic (1997)_>,\n",
              "    <Movie id:0116999[http] title:_Marvin's Room (1996)_>,\n",
              "    <Movie id:0117509[http] title:_Romeo + Juliet (1996)_>,\n",
              "    <Movie id:0114702[http] title:_Total Eclipse (1995)_>,\n",
              "    <Movie id:0114214[http] title:_The Quick and the Dead (1995)_>,\n",
              "    <Movie id:0112461[http] title:_The Basketball Diaries (1995)_>,\n",
              "    <Movie id:0109820[http] title:_The Foot Shooting Party (1994)_>,\n",
              "    <Movie id:0108550[http] title:_What's Eating Gilbert Grape (1993)_>,\n",
              "    <Movie id:0108330[http] title:_This Boy's Life (1993)_>,\n",
              "    <Movie id:0088527[http] title:_\"Growing Pains (1991-1992)\" (None)_>,\n",
              "    <Movie id:0105156[http] title:_Poison Ivy (1992)_>,\n",
              "    <Movie id:0101627[http] title:_Critters 3 (1991)_>,\n",
              "    <Movie id:0098887[http] title:_\"Parenthood (1990-1991)\" (None)_>,\n",
              "    <Movie id:0094540[http] title:_\"Roseanne\" (1991)_>,\n",
              "    <Movie id:10257288[http] title:_Street Safe, Street Smart (1990)_>,\n",
              "    <Movie id:0096661[http] title:_\"The New Lassie (1989-1990)\" (None)_>,\n",
              "    <Movie id:0086793[http] title:_\"Santa Barbara\" (1990)_>,\n",
              "    <Movie id:0096673[http] title:_\"The Outsiders\" (1990)_>,\n",
              "    <Movie id:0190196[http] title:_\"Romper Room\" (1979)_>],\n",
              "   'archive footage': [<Movie id:13891626[http] title:_Hollywood Celebrity () (None)_>,\n",
              "    <Movie id:0096636[http] title:_\"Live with Kelly and Ryan\" (2022)_>,\n",
              "    <Movie id:18931104[http] title:_\"Awaken with JP Sears Show\" (2022)_>,\n",
              "    <Movie id:14857030[http] title:_\"Zervakis & Opdenhövel. Live.\" (2022)_>,\n",
              "    <Movie id:1190931[http] title:_American Greed (2008-2022) (None)_>,\n",
              "    <Movie id:0081857[http] title:_\"Entertainment Tonight (2005-2021)\" (None)_>,\n",
              "    <Movie id:15714428[http] title:_Daniel Day-Lewis - L'héritier (2021)_>,\n",
              "    <Movie id:15287836[http] title:_Monsters Inside: The 24 Faces of Billy Milligan (2021)_>,\n",
              "    <Movie id:11465472[http] title:_\"Josiah Rises\" (2021)_>,\n",
              "    <Movie id:14035292[http] title:_Kid 90 (2021)_>,\n",
              "    <Movie id:13988290[http] title:_Leonardo DiCaprio: Most Wanted! (2021)_>,\n",
              "    <Movie id:3503424[http] title:_\"Celebrity Page (2019-2020)\" (None)_>,\n",
              "    <Movie id:8420184[http] title:_The Last Dance (2020)_>,\n",
              "    <Movie id:7889220[http] title:_Dirty Money (2020)_>,\n",
              "    <Movie id:11805284[http] title:_Im Reich der Filme (2020)_>,\n",
              "    <Movie id:18277330[http] title:_70 Jahre Berlinale (2020)_>,\n",
              "    <Movie id:8589176[http] title:_Casting Calls (2020)_>,\n",
              "    <Movie id:0247094[http] title:_\"Extra (2015-2019)\" (None)_>,\n",
              "    <Movie id:11203896[http] title:_VICE Investigates (2019)_>,\n",
              "    <Movie id:7971956[http] title:_The Jewels of the Salton Sea (2019)_>,\n",
              "    <Movie id:4329810[http] title:_QT8: The First Eight (2019)_>,\n",
              "    <Movie id:10792382[http] title:_The Curse of Don's Plum (2019)_>,\n",
              "    <Movie id:10468676[http] title:_The Movies (2019)_>,\n",
              "    <Movie id:14072206[http] title:_Apollo 8: The Mission That Changed the World (2018)_>,\n",
              "    <Movie id:8968488[http] title:_\"Misión exclusiva\" (2018)_>,\n",
              "    <Movie id:7808628[http] title:_Hell's Club Part 2. Another Night (2017)_>,\n",
              "    <Movie id:0430836[http] title:_\"The Insider (2016-2017)\" (None)_>,\n",
              "    <Movie id:4629950[http] title:_Try Not to Smile or Laugh (2017)_>,\n",
              "    <Movie id:3787912[http] title:_\"Best of the Worst\" (2017)_>,\n",
              "    <Movie id:3644198[http] title:_\"Good Morning Britain\" (2017)_>,\n",
              "    <Movie id:6436780[http] title:_\"Hoy nos toca\" (2017)_>,\n",
              "    <Movie id:6046308[http] title:_Leonardo Dicaprio Visits the Palace of Versailles (2016)_>,\n",
              "    <Movie id:5705178[http] title:_Greatest 90s Movies (2016)_>,\n",
              "    <Movie id:5885382[http] title:_L'IA et Mathieu (2016)_>,\n",
              "    <Movie id:7503590[http] title:_Louder with Crowder (2016)_>,\n",
              "    <Movie id:4823212[http] title:_\"The Drunken Peasants\" (2016)_>,\n",
              "    <Movie id:4416750[http] title:_\"Welcome to the Basement\" (2016)_>,\n",
              "    <Movie id:5338860[http] title:_\"Do They Know It?\" (2016)_>,\n",
              "    <Movie id:0355143[http] title:_\"taff (2015-2016)\" (None)_>,\n",
              "    <Movie id:9725164[http] title:_Leonardo DiCaprio - Phantom und Superstar (2015) (TV)_>,\n",
              "    <Movie id:0166442[http] title:_Inside Edition (2014-2015) (None)_>,\n",
              "    <Movie id:3894384[http] title:_Worst Shark Attack Ever (2014)_>,\n",
              "    <Movie id:8644162[http] title:_DirtyBiology (2014)_>,\n",
              "    <Movie id:0165001[http] title:_\"CBS News Sunday Morning (2013-2014)\" (None)_>,\n",
              "    <Movie id:2185037[http] title:_\"Running Man\" (2014)_>,\n",
              "    <Movie id:0185065[http] title:_\"Fox and Friends\" (2014)_>,\n",
              "    <Movie id:2841688[http] title:_\"Movie Guide\" (2013)_>,\n",
              "    <Movie id:2271785[http] title:_10 Things You Don't Know About (2012)_>,\n",
              "    <Movie id:2198333[http] title:_America's Book of Secrets (2012)_>,\n",
              "    <Movie id:2243299[http] title:_Final Cut: Ladies and Gentlemen (2012)_>,\n",
              "    <Movie id:2200957[http] title:_1st AACTA Awards (2012)_>,\n",
              "    <Movie id:5987704[http] title:_Pete Postlethwaite: A Tribute (2011)_>,\n",
              "    <Movie id:1749539[http] title:_\"Special Collector's Edition\" (2011)_>,\n",
              "    <Movie id:2088661[http] title:_Zaum - Andare a parare (2011)_>,\n",
              "    <Movie id:1806766[http] title:_Almost Famous IV (2011)_>,\n",
              "    <Movie id:2008009[http] title:_The Clock (2010)_>,\n",
              "    <Movie id:1694015[http] title:_Cool It (2010)_>,\n",
              "    <Movie id:0800968[http] title:_20 to 1 (2006-2010) (None)_>,\n",
              "    <Movie id:1651079[http] title:_Gilles Jacob: CIitizen Cannes (2010)_>,\n",
              "    <Movie id:0103569[http] title:_\"The Tonight Show with Jay Leno\" (2010)_>,\n",
              "    <Movie id:1577139[http] title:_\"A polos 25\" (2010)_>,\n",
              "    <Movie id:1509653[http] title:_\"Live from Studio Five\" (2010)_>,\n",
              "    <Movie id:1577779[http] title:_Almost Famous III (2010)_>,\n",
              "    <Movie id:0092322[http] title:_Biography (2005-2009) (None)_>,\n",
              "    <Movie id:0824229[http] title:_\"Today Tonight (2007-2009)\" (None)_>,\n",
              "    <Movie id:1535978[http] title:_Los 10 magníficos (2008)_>,\n",
              "    <Movie id:1300281[http] title:_Premio Donostia a Meryl Streep (2008)_>,\n",
              "    <Movie id:0343294[http] title:_\"Punkt 12\" (2008)_>,\n",
              "    <Movie id:1183149[http] title:_Oscar, que empiece el espectáculo (2008)_>,\n",
              "    <Movie id:0284767[http] title:_\"The Factor\" (2008)_>,\n",
              "    <Movie id:1229751[http] title:_Forbes 20 Under 25: Young, Rich and Famous (2007) (TV)_>,\n",
              "    <Movie id:0784850[http] title:_100 Greatest Teen Stars (2007)_>,\n",
              "    <Movie id:1394280[http] title:_Empreintes (2007)_>,\n",
              "    <Movie id:0810970[http] title:_Everything's Cool (2007)_>,\n",
              "    <Movie id:0480279[http] title:_\"20 heures le journal\" (2007)_>,\n",
              "    <Movie id:0985693[http] title:_Larry King Live: The Greatest Interviews (2007)_>,\n",
              "    <Movie id:0961117[http] title:_Manufacturing Dissent (2007)_>,\n",
              "    <Movie id:0969315[http] title:_Penélope, camino a los Oscar (2007)_>,\n",
              "    <Movie id:0958221[http] title:_101 Favorite Stars Way Back When (2007)_>,\n",
              "    <Movie id:0923576[http] title:_The 16th Annual Gotham Awards (2006)_>,\n",
              "    <Movie id:0805497[http] title:_Boffo! Tinseltown's Bombs and Blockbusters (2006)_>,\n",
              "    <Movie id:0817494[http] title:_Celebrity Debut (2006) (TV)_>,\n",
              "    <Movie id:10358892[http] title:_VH1 News Presents (2006)_>,\n",
              "    <Movie id:0487865[http] title:_50 Cutest Child Stars: All Grown Up (2005)_>,\n",
              "    <Movie id:0470644[http] title:_Cinema mil (2005)_>,\n",
              "    <Movie id:0463397[http] title:_\"Corazón de...\" (2005)_>,\n",
              "    <Movie id:0483735[http] title:_Michael Moore, el gran agitador (2004)_>,\n",
              "    <Movie id:2195237[http] title:_MovieReal: The Aviator (2004)_>,\n",
              "    <Movie id:0434462[http] title:_Words in Progress (2004)_>,\n",
              "    <Movie id:0403738[http] title:_\"Celebrities Uncensored (2003-2004)\" (None)_>,\n",
              "    <Movie id:0402720[http] title:_101 Biggest Celebrity Oops (2004)_>,\n",
              "    <Movie id:0362153[http] title:_\"The Simple Life\" (2003)_>,\n",
              "    <Movie id:0892644[http] title:_\"Sendung ohne Namen\" (2003)_>,\n",
              "    <Movie id:0326145[http] title:_Shirtless: Hollywood's Sexiest Men (2002)_>,\n",
              "    <Movie id:0488301[http] title:_Histoires de festival (2002) (TV)_>,\n",
              "    <Movie id:0463399[http] title:_E! True Hollywood Story (2001)_>,\n",
              "    <Movie id:0320996[http] title:_Twentieth Century Fox: The Blockbuster Years (2000)_>,\n",
              "    <Movie id:0488532[http] title:_Entertainment Tonight Presents: The Real 'Growing Pains' (2000)_>,\n",
              "    <Movie id:0428108[http] title:_Entertainers with Byron Allen (2000)_>,\n",
              "    <Movie id:0396288[http] title:_Biography of the Millennium: 100 People - 1000 Years (1999)_>,\n",
              "    <Movie id:0787466[http] title:_Femmes Fatales: Sharon Stone (1998)_>,\n",
              "    <Movie id:0315823[http] title:_Beyond Titanic (1998)_>,\n",
              "    <Movie id:5229066[http] title:_Hangin' with Leo! (1998)_>,\n",
              "    <Movie id:0325727[http] title:_Leo Mania (1998)_>,\n",
              "    <Movie id:0408269[http] title:_To Leo with Love (1998)_>,\n",
              "    <Movie id:0284808[http] title:_The 70th Annual Academy Awards (1998)_>,\n",
              "    <Movie id:1355595[http] title:_Sharon Stone - Una mujer de 100 caras (1998)_>,\n",
              "    <Movie id:0088527[http] title:_\"Growing Pains\" (1992)_>],\n",
              "   'producer': [<Movie id:1134795[http] title:_Akira () (None)_>,\n",
              "    <Movie id:2005171[http] title:_Captain Planet () (None)_>,\n",
              "    <Movie id:5616634[http] title:_The Corporation () (None)_>,\n",
              "    <Movie id:7428530[http] title:_Roosevelt (2023)_>,\n",
              "    <Movie id:1243923[http] title:_Atari () (None)_>,\n",
              "    <Movie id:15909214[http] title:_Jim Jones () (None)_>,\n",
              "    <Movie id:0959300[http] title:_The Devil in the White City () (None)_>,\n",
              "    <Movie id:2953250[http] title:_\"Shining Girls\" (2022)_>,\n",
              "    <Movie id:12330446[http] title:_Theodore Roosevelt (2022)_>,\n",
              "    <Movie id:11346000[http] title:_King of Cool (2021)_>,\n",
              "    <Movie id:14538516[http] title:_\"Stay Wild\" (2021)_>,\n",
              "    <Movie id:14921098[http] title:_Fin (2021)_>,\n",
              "    <Movie id:2401814[http] title:_The Loneliest Whale: The Search for 52 (2021)_>,\n",
              "    <Movie id:16409252[http] title:_From Devil's Breath (2021)_>,\n",
              "    <Movie id:14357532[http] title:_The Titans That Built America (2021)_>,\n",
              "    <Movie id:14035292[http] title:_Kid 90 (2021)_>,\n",
              "    <Movie id:7423322[http] title:_\"The Right Stuff\" (2020)_>,\n",
              "    <Movie id:13005714[http] title:_Whose Vote Counts, Explained (2020)_>,\n",
              "    <Movie id:8690814[http] title:_Grant (2020)_>,\n",
              "    <Movie id:3513548[http] title:_Richard Jewell (2019)_>,\n",
              "    <Movie id:10578490[http] title:_And We Go Green (2019)_>,\n",
              "    <Movie id:9114472[http] title:_Ice on Fire (2019)_>,\n",
              "    <Movie id:9326056[http] title:_Sea of Shadows (2019)_>,\n",
              "    <Movie id:9316022[http] title:_Struggle: The Life and Lost Art of Szukalski (2018)_>,\n",
              "    <Movie id:4532826[http] title:_Robin Hood (2018)_>,\n",
              "    <Movie id:8014232[http] title:_Jonestown: Terror in the Jungle (2018)_>,\n",
              "    <Movie id:8654714[http] title:_Pollinators Under Pressure (2018)_>,\n",
              "    <Movie id:2069797[http] title:_Delirium (I) (2018)_>,\n",
              "    <Movie id:6251076[http] title:_The Men Who Built America: Frontiersmen (2018)_>,\n",
              "    <Movie id:7293754[http] title:_Fire Chasers (2017)_>,\n",
              "    <Movie id:2361317[http] title:_Live by Night (2016)_>,\n",
              "    <Movie id:5203824[http] title:_A Plastic Ocean (2016)_>,\n",
              "    <Movie id:5929776[http] title:_Before the Flood (2016)_>,\n",
              "    <Movie id:5952266[http] title:_The Ivory Game (2016)_>,\n",
              "    <Movie id:5278932[http] title:_When Two Worlds Collide (2016)_>,\n",
              "    <Movie id:7918460[http] title:_Digital Wampum (2015)_>,\n",
              "    <Movie id:1698654[http] title:_Catching the Sun (2015)_>,\n",
              "    <Movie id:3302820[http] title:_Cowspiracy: The Sustainability Secret (2014)_>,\n",
              "    <Movie id:3455224[http] title:_Virunga (2014)_>,\n",
              "    <Movie id:0993846[http] title:_The Wolf of Wall Street (2013)_>,\n",
              "    <Movie id:1206543[http] title:_Out of the Furnace (2013)_>,\n",
              "    <Movie id:2364841[http] title:_Runner Runner (2013)_>,\n",
              "    <Movie id:1124035[http] title:_The Ides of March (2011)_>,\n",
              "    <Movie id:1486185[http] title:_Red Riding Hood (2011)_>,\n",
              "    <Movie id:1148204[http] title:_Orphan (2009)_>,\n",
              "    <Movie id:0883073[http] title:_\"Greensburg\" (2008)_>,\n",
              "    <Movie id:0492931[http] title:_The 11th Hour (I) (2007)_>,\n",
              "    <Movie id:0403057[http] title:_Gardener of Eden (I) (2007)_>,\n",
              "    <Movie id:0338751[http] title:_The Aviator (2004)_>,\n",
              "    <Movie id:0364961[http] title:_The Assassination of Richard Nixon (2004)_>],\n",
              "   'self': [<Movie id:9253782[http] title:_Blow up (2021)_>,\n",
              "    <Movie id:0081857[http] title:_\"Entertainment Tonight (2006-2021)\" (None)_>,\n",
              "    <Movie id:0247094[http] title:_\"Extra (2007-2021)\" (None)_>,\n",
              "    <Movie id:0165001[http] title:_\"CBS News Sunday Morning\" (2021)_>,\n",
              "    <Movie id:15711284[http] title:_Adele One Night Only (2021)_>,\n",
              "    <Movie id:15404470[http] title:_Shine a Light 9/11 Tribute Concert (2021)_>,\n",
              "    <Movie id:15560488[http] title:_Clint Eastwood: A Cinematic Legacy (2021)_>,\n",
              "    <Movie id:8638066[http] title:_\"Hollywood Insider (2019-2021)\" (None)_>,\n",
              "    <Movie id:14677742[http] title:_Welcome Back Future (2021)_>,\n",
              "    <Movie id:16220616[http] title:_Success Formula (2021)_>,\n",
              "    <Movie id:13005714[http] title:_Whose Vote Counts, Explained (2020)_>,\n",
              "    <Movie id:12179810[http] title:_\"The Anytime Show with Mister H. I.\" (2020)_>,\n",
              "    <Movie id:10305932[http] title:_The Oscars (2020)_>,\n",
              "    <Movie id:12273712[http] title:_The Oscars Red Carpet Show (2020)_>,\n",
              "    <Movie id:10751088[http] title:_The 26th Annual Screen Actors Guild Awards (2020)_>,\n",
              "    <Movie id:0911896[http] title:_\"Made in Hollywood (2013-2020)\" (None)_>,\n",
              "    <Movie id:10150518[http] title:_The 25th Annual Critics' Choice Awards (2020)_>,\n",
              "    <Movie id:12058860[http] title:_WTF with Marc Maron (2020)_>,\n",
              "    <Movie id:10821190[http] title:_2020 Golden Globe Awards (2020)_>,\n",
              "    <Movie id:11064054[http] title:_Global Citizen Festival (2019)_>,\n",
              "    <Movie id:4367274[http] title:_\"CTV News at 11:30 Toronto\" (2019)_>,\n",
              "    <Movie id:0390699[http] title:_\"Días de cine (2010-2019)\" (None)_>,\n",
              "    <Movie id:0428108[http] title:_Entertainers with Byron Allen (2019)_>,\n",
              "    <Movie id:3644198[http] title:_\"Good Morning Britain\" (2019)_>,\n",
              "    <Movie id:0320037[http] title:_\"Jimmy Kimmel Live! (2016-2019)\" (None)_>,\n",
              "    <Movie id:5139360[http] title:_\"WGN Morning News\" (2019)_>,\n",
              "    <Movie id:0044298[http] title:_\"Today\" (2019)_>,\n",
              "    <Movie id:0482346[http] title:_\"Entertainment Tonight Canada\" (2019)_>,\n",
              "    <Movie id:10578490[http] title:_And We Go Green (2019)_>,\n",
              "    <Movie id:9114472[http] title:_Ice on Fire (2019)_>,\n",
              "    <Movie id:10199110[http] title:_Lil Dicky: Earth (2019)_>,\n",
              "    <Movie id:8654714[http] title:_Pollinators Under Pressure (2018)_>,\n",
              "    <Movie id:10856690[http] title:_BYD: Build Your Dreams (2017)_>,\n",
              "    <Movie id:10851666[http] title:_BYD: Make History (2017)_>,\n",
              "    <Movie id:7133092[http] title:_Spielberg (2017)_>,\n",
              "    <Movie id:7621064[http] title:_Louder Together (2017)_>,\n",
              "    <Movie id:8168692[http] title:_Hand in Hand: A Benefit for Hurricane Relief (2017)_>,\n",
              "    <Movie id:5850440[http] title:_The Oscars (2017)_>,\n",
              "    <Movie id:5824900[http] title:_The 74th Annual Golden Globe Awards 2017 (2017)_>,\n",
              "    <Movie id:6337812[http] title:_Time Presents: Milestones 2016 - A Tribute to the Stars We've Lost (2016)_>,\n",
              "    <Movie id:6236522[http] title:_Hollywood Film Awards (2016)_>,\n",
              "    <Movie id:0379623[http] title:_\"The Ellen DeGeneres Show (2014-2016)\" (None)_>,\n",
              "    <Movie id:4301730[http] title:_SciShow (2016)_>,\n",
              "    <Movie id:5929776[http] title:_Before the Flood (2016)_>,\n",
              "    <Movie id:5811514[http] title:_Koko: The Gorilla Who Talks to People (2016)_>,\n",
              "    <Movie id:5556144[http] title:_2016 MTV Movie Awards (2016)_>,\n",
              "    <Movie id:6052540[http] title:_\"Action ou vérité\" (2016)_>,\n",
              "    <Movie id:4817038[http] title:_Casey Neistat Vlog (2016)_>,\n",
              "    <Movie id:4346344[http] title:_\"E! Live from the Red Carpet (2007-2016)\" (None)_>,\n",
              "    <Movie id:4991632[http] title:_The Oscars (2016)_>,\n",
              "    <Movie id:5123584[http] title:_\"Rencontres de cinéma\" (2016)_>,\n",
              "    <Movie id:5448304[http] title:_The EE British Academy Film Awards (2016)_>,\n",
              "    <Movie id:5834632[http] title:_OSCARS Opening Ceremony: Live from the Red Carpet (2016)_>,\n",
              "    <Movie id:5421678[http] title:_22nd Annual Screen Actors Guild Awards (2016)_>,\n",
              "    <Movie id:5374070[http] title:_A World Unseen: The Revenant (2016)_>,\n",
              "    <Movie id:5350078[http] title:_21st Annual Critics' Choice Awards (2016)_>,\n",
              "    <Movie id:1239083[http] title:_\"Markus Lanz\" (2016)_>,\n",
              "    <Movie id:0167515[http] title:_\"Access Hollywood (2008-2016)\" (None)_>,\n",
              "    <Movie id:5363742[http] title:_2016 Golden Globe Arrivals Special (2016)_>,\n",
              "    <Movie id:4399942[http] title:_73rd Golden Globe Awards (2016)_>,\n",
              "    <Movie id:0291679[http] title:_\"Weekend Today\" (2016)_>,\n",
              "    <Movie id:2787918[http] title:_Weekend Ticket (2016)_>,\n",
              "    <Movie id:0430836[http] title:_\"The Insider (2014-2015)\" (None)_>,\n",
              "    <Movie id:5116630[http] title:_Global Citizen Festival (2015)_>,\n",
              "    <Movie id:5285684[http] title:_Scorsese's Goodfellas (2015)_>,\n",
              "    <Movie id:7918144[http] title:_Restoration (III) (2015)_>,\n",
              "    <Movie id:10852568[http] title:_Jim Beam: Black (2014)_>,\n",
              "    <Movie id:10852626[http] title:_Telecom: La tecnologia e importante ma anche tutto il resto (2014)_>,\n",
              "    <Movie id:4370188[http] title:_Green World Rising (2014)_>,\n",
              "    <Movie id:4007278[http] title:_Carbon (2014)_>,\n",
              "    <Movie id:3578774[http] title:_2014 MTV Movie Awards (2014)_>,\n",
              "    <Movie id:2796782[http] title:_The Oscars (2014)_>,\n",
              "    <Movie id:3697216[http] title:_The Oscars Red Carpet Live 2014 (2014)_>,\n",
              "    <Movie id:3395490[http] title:_\"SAG Foundation Conversations\" (2014)_>,\n",
              "    <Movie id:3542198[http] title:_EE British Academy Film Awards: The Red Carpet Show (2014)_>,\n",
              "    <Movie id:3453002[http] title:_The EE British Academy Film Awards (2014)_>,\n",
              "    <Movie id:0072562[http] title:_\"Saturday Night Live\" (2014)_>,\n",
              "    <Movie id:3427762[http] title:_19th Annual Critics' Choice Movie Awards (2014)_>,\n",
              "    <Movie id:3464668[http] title:_2014 Golden Globe Arrivals Special (2014)_>,\n",
              "    <Movie id:3262722[http] title:_71st Golden Globe Awards (2014)_>,\n",
              "    <Movie id:10852556[http] title:_Jim Beam: Bourbon (2013)_>,\n",
              "    <Movie id:3391950[http] title:_\"The Hollywood Reporter in Focus\" (2013)_>,\n",
              "    <Movie id:0072506[http] title:_\"Good Morning America\" (2013)_>,\n",
              "    <Movie id:0270116[http] title:_\"Charlie Rose (2005-2013)\" (None)_>,\n",
              "    <Movie id:3342916[http] title:_Last Hours (2013)_>,\n",
              "    <Movie id:0421288[http] title:_\"At the Movies\" (2013)_>,\n",
              "    <Movie id:0111920[http] title:_\"Cinema 3 (2010-2013)\" (None)_>,\n",
              "    <Movie id:3110888[http] title:_\"Vivir de cine\" (2013)_>,\n",
              "    <Movie id:6581590[http] title:_\"Cannes Film Festival\" (2013)_>,\n",
              "    <Movie id:2576350[http] title:_\"Celebrity Style Story\" (2013)_>,\n",
              "    <Movie id:0355143[http] title:_\"taff (1998-2013)\" (None)_>,\n",
              "    <Movie id:1172112[http] title:_\"Mezamashi TV\" (2013)_>,\n",
              "    <Movie id:2604420[http] title:_70th Golden Globe Awards (2013)_>,\n",
              "    <Movie id:2169432[http] title:_Titanic: 100 Years On (2012)_>,\n",
              "    <Movie id:1489335[http] title:_\"ES.TV HD\" (2012)_>,\n",
              "    <Movie id:2201796[http] title:_J. Edgar: A Complicated Man (2012)_>,\n",
              "    <Movie id:2304689[http] title:_J. Edgar: The Most Powerful Man in the World (2012)_>,\n",
              "    <Movie id:2125640[http] title:_The 69th Annual Golden Globe Awards (2012)_>,\n",
              "    <Movie id:2184093[http] title:_17th Annual Critics' Choice Movie Awards (2012)_>,\n",
              "    <Movie id:10851652[http] title:_Oppo: Find Me (2011)_>,\n",
              "    <Movie id:10856664[http] title:_Wild Aid: Leonardo DiCaprio and Jackie Chan (2011)_>,\n",
              "    <Movie id:1907886[http] title:_\"Big Morning Buzz Live\" (2011)_>,\n",
              "    <Movie id:1434322[http] title:_\"Up Close with Carrie Keagan (2008-2011)\" (None)_>,\n",
              "    <Movie id:0154053[http] title:_\"ABC News Nightline (2007-2011)\" (None)_>,\n",
              "    <Movie id:2006276[http] title:_The Love We Make (2011)_>,\n",
              "    <Movie id:1928311[http] title:_Unite for Japan (2011)_>,\n",
              "    <Movie id:2132638[http] title:_\"Close Up\" (2011)_>,\n",
              "    <Movie id:5295990[http] title:_Inception: Jump Right Into the Action (2010)_>,\n",
              "    <Movie id:1843886[http] title:_Dreams: Cinema of the Subconscious (2010)_>,\n",
              "    <Movie id:1710551[http] title:_Dante Ferretti: Scenografo italiano (2010)_>,\n",
              "    <Movie id:1612376[http] title:_\"Janela Indiscreta\" (2010)_>,\n",
              "    <Movie id:1618221[http] title:_\"Mark at the Movies\" (2010)_>,\n",
              "    <Movie id:0480279[http] title:_\"20 heures le journal\" (2010)_>,\n",
              "    <Movie id:0318220[http] title:_HBO First Look (1997-2010) (None)_>,\n",
              "    <Movie id:5445272[http] title:_Shutter Island: Behind the Shutters (2010)_>,\n",
              "    <Movie id:5445282[http] title:_Shutter Island: Into the Lighthouse (2010)_>,\n",
              "    <Movie id:1672620[http] title:_Guys Choice (2010)_>,\n",
              "    <Movie id:1433813[http] title:_Hubble (2010)_>,\n",
              "    <Movie id:1946864[http] title:_\"Face 2 Face\" (2010)_>,\n",
              "    <Movie id:1016283[http] title:_\"Xposé (2008-2010)\" (None)_>,\n",
              "    <Movie id:0381753[http] title:_\"Fantastic\" (2010)_>,\n",
              "    <Movie id:0426701[http] title:_Le grand journal de Canal+ (2010)_>,\n",
              "    <Movie id:1587308[http] title:_Hope for Haiti Now: A Global Benefit for Earthquake Relief (2010)_>,\n",
              "    <Movie id:1564372[http] title:_The 67th Annual Golden Globe Awards (2010)_>,\n",
              "    <Movie id:1468820[http] title:_2009 Golden Globe Awards Red Carpet Special (2009)_>,\n",
              "    <Movie id:1558827[http] title:_Model Culture: One + Night in Bangkok (2009)_>,\n",
              "    <Movie id:1826731[http] title:_Lives of Quiet Desperation: The Making of Revolutionary Road (2009)_>,\n",
              "    <Movie id:1409118[http] title:_Nickelodeon Kids' Choice Awards 2009 (2009)_>,\n",
              "    <Movie id:1379245[http] title:_Actionable Intelligence: Deconstructing 'Body of Lies' (2009)_>,\n",
              "    <Movie id:5206728[http] title:_Body of Lies: Interactive Debriefing (2009)_>,\n",
              "    <Movie id:0090493[http] title:_\"The Oprah Winfrey Show (2004-2009)\" (None)_>,\n",
              "    <Movie id:1222814[http] title:_Golden Globe Awards (2009)_>,\n",
              "    <Movie id:0092322[http] title:_Biography (2008)_>,\n",
              "    <Movie id:12358586[http] title:_Notes on an American Film Director at Work (2008)_>,\n",
              "    <Movie id:0420393[http] title:_\"Eigo de shabera-night\" (2008)_>,\n",
              "    <Movie id:6789742[http] title:_The Departed: Interviews (2007)_>,\n",
              "    <Movie id:6789740[http] title:_The Departed: The Inspiration (2007)_>,\n",
              "    <Movie id:1221131[http] title:_Don't Tell My Booker!!! (2007)_>,\n",
              "    <Movie id:1008002[http] title:_Live Earth (2007)_>,\n",
              "    <Movie id:6029418[http] title:_Blood Diamond: Focus Points (2007)_>,\n",
              "    <Movie id:0492931[http] title:_The 11th Hour (I) (2007)_>,\n",
              "    <Movie id:1028577[http] title:_The World Awaits: De La Hoya vs. Mayweather (2007)_>,\n",
              "    <Movie id:2872838[http] title:_Blood Diamond: Becoming Archer (2007)_>,\n",
              "    <Movie id:5206644[http] title:_Blood Diamond: Inside the Siege of Freetown (2007)_>,\n",
              "    <Movie id:5206604[http] title:_Blood Diamond: Journalism on the Front Line (2007)_>,\n",
              "    <Movie id:0833875[http] title:_The 79th Annual Academy Awards (2007)_>,\n",
              "    <Movie id:0970528[http] title:_Crossing Criminal Cultures (2007)_>,\n",
              "    <Movie id:0970546[http] title:_Stranger Than Fiction: The True Story of Whitey Bulger, Southie and 'The Departed' (2007)_>,\n",
              "    <Movie id:0380951[http] title:_\"Senkveld med Thomas og Harald\" (2007)_>,\n",
              "    <Movie id:1160043[http] title:_13th Annual Screen Actors Guild Awards (2007)_>,\n",
              "    <Movie id:0192897[http] title:_\"Film 2018\" (2007)_>,\n",
              "    <Movie id:0976020[http] title:_The 12th Annual Critics' Choice Awards (2007)_>,\n",
              "    <Movie id:0914790[http] title:_The 64th Annual Golden Globe Awards (2007)_>,\n",
              "    <Movie id:0950474[http] title:_\"What It Takes\" (2006)_>,\n",
              "    <Movie id:0103569[http] title:_\"The Tonight Show with Jay Leno (1994-2006)\" (None)_>,\n",
              "    <Movie id:6704166[http] title:_\"Esprits libres\" (2006)_>,\n",
              "    <Movie id:0463397[http] title:_\"Corazón de... (2005-2006)\" (None)_>,\n",
              "    <Movie id:0872065[http] title:_\"Weekend Sunrise\" (2006)_>,\n",
              "    <Movie id:1294988[http] title:_Emporio Armani 'Red' One Night Only (2006)_>,\n",
              "    <Movie id:0840321[http] title:_Forbes Celebrity 100: Who Made Bank? (2006) (TV)_>,\n",
              "    <Movie id:0321003[http] title:_\"VH1: All Access\" (2006)_>,\n",
              "    <Movie id:0770700[http] title:_12th Annual Screen Actors Guild Awards (2006)_>,\n",
              "    <Movie id:0770708[http] title:_The 63rd Annual Golden Globe Awards 2006 (2006)_>,\n",
              "    <Movie id:0493412[http] title:_Earth to America (2005)_>,\n",
              "    <Movie id:5478998[http] title:_Titanic: EPK Press Kit (2005)_>,\n",
              "    <Movie id:5478978[http] title:_Titanic's Production: Behind the Scenes (2005)_>,\n",
              "    <Movie id:0478568[http] title:_A Concert for Hurricane Relief (2005)_>,\n",
              "    <Movie id:0426682[http] title:_The Fabulous Life of (2005)_>,\n",
              "    <Movie id:0463853[http] title:_2005 MTV Movie Awards (2005)_>,\n",
              "    <Movie id:0768121[http] title:_A Life Without Limits: The Making of 'The Aviator' (2005)_>,\n",
              "    <Movie id:0449557[http] title:_The Affliction of Howard Hughes: Obsessive-Compulsive Disorder (2005)_>,\n",
              "    <Movie id:5950624[http] title:_Mon plus grand moment de cinéma (2005)_>,\n",
              "    <Movie id:0450204[http] title:_101 Juiciest Hollywood Hookups (2005)_>,\n",
              "    <Movie id:0429487[http] title:_The 77th Annual Academy Awards (2005)_>,\n",
              "    <Movie id:0445913[http] title:_11th Annual Screen Actors Guild Awards (2005)_>,\n",
              "    <Movie id:0429486[http] title:_The 62nd Annual Golden Globe Awards 2005 (2005)_>,\n",
              "    <Movie id:0445772[http] title:_Tsunami Aid: A Concert of Hope (2005)_>,\n",
              "    <Movie id:0456034[http] title:_\"Only in LA\" (2005)_>,\n",
              "    <Movie id:0300776[http] title:_History vs. Hollywood (2004)_>,\n",
              "    <Movie id:0395093[http] title:_The 61st Annual Golden Globe Awards (2004)_>,\n",
              "    <Movie id:8839404[http] title:_Gangs of New York: History of the Five Points (2003)_>,\n",
              "    <Movie id:8839442[http] title:_Gangs of New York: Set Design (2003)_>,\n",
              "    <Movie id:15441582[http] title:_\"AFI Life Achievement Award\" (2003)_>,\n",
              "    <Movie id:0372106[http] title:_'Catch Me If You Can': Behind the Camera (2003)_>,\n",
              "    <Movie id:0923572[http] title:_'Catch Me If You Can': In Closing (2003)_>,\n",
              "    <Movie id:0923573[http] title:_'Catch Me If You Can': The Casting of the Film (2003)_>,\n",
              "    <Movie id:0401305[http] title:_Frank Abagnale: Between Reality and Fiction (2003)_>,\n",
              "    <Movie id:0372743[http] title:_The 100 Greatest Movie Stars (2003)_>,\n",
              "    <Movie id:0395334[http] title:_\"Cartaz Cultural\" (2003)_>,\n",
              "    <Movie id:0088550[http] title:_\"Larry King Live\" (2003)_>,\n",
              "    <Movie id:0081961[http] title:_\"Wetten, dass..?\" (2003)_>,\n",
              "    <Movie id:1322501[http] title:_\"Buona Domenica\" (2003)_>,\n",
              "    <Movie id:0349057[http] title:_The 60th Annual Golden Globe Awards (2003)_>,\n",
              "    <Movie id:0299374[http] title:_\"Richard & Judy\" (2003)_>,\n",
              "    <Movie id:4800292[http] title:_Lying for a Living (2002)_>,\n",
              "    <Movie id:0315025[http] title:_Leute heute (2002)_>,\n",
              "    <Movie id:0321150[http] title:_All the Love You Cannes! (2002)_>,\n",
              "    <Movie id:0355570[http] title:_Playboy: Inside the Playboy Mansion (2002)_>,\n",
              "    <Movie id:0298810[http] title:_The Concert for New York City (2001)_>,\n",
              "    <Movie id:0402538[http] title:_Titanic: The Premiere (2000)_>,\n",
              "    <Movie id:0224521[http] title:_\"The Priory\" (2000)_>,\n",
              "    <Movie id:7617962[http] title:_\"Sagas\" (1999)_>,\n",
              "    <Movie id:0237081[http] title:_Celebrities Caught on Camera: Volume 1 (1999)_>,\n",
              "    <Movie id:0773260[http] title:_Bravo Profiles: The Entertainment Business (1998)_>,\n",
              "    <Movie id:0169327[http] title:_Titanic: Breaking New Ground (1998)_>,\n",
              "    <Movie id:0859588[http] title:_The 55th Annual Golden Globe Awards (1998)_>,\n",
              "    <Movie id:0483221[http] title:_\"Mundo VIP\" (1998)_>,\n",
              "    <Movie id:0322031[http] title:_Directors: James Cameron (1997)_>,\n",
              "    <Movie id:1645009[http] title:_\"Magacine\" (1997)_>,\n",
              "    <Movie id:0224861[http] title:_The Directors (1997)_>,\n",
              "    <Movie id:0174397[http] title:_\"Hey Hey It's Saturday\" (1997)_>,\n",
              "    <Movie id:0299739[http] title:_David Blaine: Street Magic (1997)_>,\n",
              "    <Movie id:10852498[http] title:_Honda: Miracle Civic (1995)_>,\n",
              "    <Movie id:0286234[http] title:_Total Eclipse (1995)_>,\n",
              "    <Movie id:10929730[http] title:_X-Girl (1995)_>,\n",
              "    <Movie id:0355070[http] title:_\"CBS This Morning\" (1995)_>,\n",
              "    <Movie id:0106053[http] title:_\"Late Show with David Letterman\" (1995)_>,\n",
              "    <Movie id:0271918[http] title:_\"The Movie Show\" (1995)_>,\n",
              "    <Movie id:0318251[http] title:_\"Troldspejlet\" (1994)_>,\n",
              "    <Movie id:0295842[http] title:_The 66th Annual Academy Awards (1994)_>,\n",
              "    <Movie id:0169515[http] title:_\"The Word\" (1994)_>,\n",
              "    <Movie id:1677636[http] title:_The 51st Annual Golden Globe Awards (1994)_>,\n",
              "    <Movie id:10851578[http] title:_Kraft: Kraft Free Singles (1991)_>,\n",
              "    <Movie id:0247869[http] title:_\"Fox's Fun House\" (1990)_>,\n",
              "    <Movie id:10850602[http] title:_Bubble Yum: Keeps it Poppin' (1989)_>,\n",
              "    <Movie id:10851610[http] title:_Fred Meyer: You'll Find it at Freddy's (1989)_>],\n",
              "   'soundtrack': [<Movie id:7131622[http] title:_Once Upon a Time... In Hollywood (2019)_>,\n",
              "    <Movie id:0120338[http] title:_Titanic (1997)_>,\n",
              "    <Movie id:0088527[http] title:_\"Growing Pains\" (1992)_>],\n",
              "   'thanks': [<Movie id:14035292[http] title:_Kid 90 (2021)_>,\n",
              "    <Movie id:4329810[http] title:_QT8: The First Eight (2019)_>,\n",
              "    <Movie id:7296862[http] title:_SPF-18 (2017)_>,\n",
              "    <Movie id:2229499[http] title:_Don Jon (2013)_>,\n",
              "    <Movie id:2201796[http] title:_J. Edgar: A Complicated Man (2012)_>,\n",
              "    <Movie id:2304689[http] title:_J. Edgar: The Most Powerful Man in the World (2012)_>,\n",
              "    <Movie id:1980920[http] title:_Below the Line (2011)_>,\n",
              "    <Movie id:1683526[http] title:_Detachment (2011)_>,\n",
              "    <Movie id:1843886[http] title:_Dreams: Cinema of the Subconscious (2010)_>,\n",
              "    <Movie id:2095802[http] title:_The Rooneys (2010) (TV)_>,\n",
              "    <Movie id:0307987[http] title:_Bad Santa (2003)_>,\n",
              "    <Movie id:0348520[http] title:_AFI's 100 Years... 100 Passions: America's Greatest Love Stories (2002)_>],\n",
              "   'writer': [<Movie id:0883073[http] title:_\"Greensburg\" (2008)_>,\n",
              "    <Movie id:0492931[http] title:_The 11th Hour (I) (2007)_>]},\n",
              "  'headshot': 'https://m.media-amazon.com/images/M/MV5BMjI0MTg3MzI0M15BMl5BanBnXkFtZTcwMzQyODU2Mw@@._V1_UY317_CR10,0,214,317_AL_.jpg',\n",
              "  'imdbID': '0000138',\n",
              "  'in development': [<Movie id:4085592[http] title:_American Wolf (None)_>,\n",
              "   <Movie id:1352666[http] title:_Beat the Reaper (None)_>,\n",
              "   <Movie id:7521372[http] title:_Black Widows (None)_>,\n",
              "   <Movie id:2822628[http] title:_Gorbachev (None)_>,\n",
              "   <Movie id:3203486[http] title:_Graveland (None)_>,\n",
              "   <Movie id:1837568[http] title:_Harker (None)_>,\n",
              "   <Movie id:12075884[http] title:_Island (None)_>,\n",
              "   <Movie id:3104962[http] title:_King Harald (None)_>,\n",
              "   <Movie id:2218442[http] title:_Legacy of Secrecy (None)_>,\n",
              "   <Movie id:7251298[http] title:_Leonardo da Vinci (None)_>,\n",
              "   <Movie id:3014324[http] title:_Mean Business on North Ganson Street (None)_>,\n",
              "   <Movie id:2967178[http] title:_Rasputin (None)_>,\n",
              "   <Movie id:2334586[http] title:_Running Out of Dog (None)_>,\n",
              "   <Movie id:8304966[http] title:_Ruthless (None)_>,\n",
              "   <Movie id:5431870[http] title:_Sandcastle Empire (None)_>,\n",
              "   <Movie id:18382254[http] title:_Sitting Bull (None)_>,\n",
              "   <Movie id:6487156[http] title:_The Black Hand (None)_>,\n",
              "   <Movie id:0411256[http] title:_The Crowded Room (None)_>,\n",
              "   <Movie id:0437151[http] title:_The Deep Blue Good-by (None)_>,\n",
              "   <Movie id:8888126[http] title:_The Facts of Life (None)_>,\n",
              "   <Movie id:5246980[http] title:_The Havana Affair (None)_>,\n",
              "   <Movie id:0800088[http] title:_The Infiltrator (None)_>,\n",
              "   <Movie id:3171110[http] title:_The Island of Dr. Moreau (None)_>,\n",
              "   <Movie id:5829110[http] title:_The Outlaw Ocean (None)_>,\n",
              "   <Movie id:2724438[http] title:_The Road Home (None)_>,\n",
              "   <Movie id:5033848[http] title:_The Searcher (None)_>,\n",
              "   <Movie id:9256778[http] title:_Time Machine (None)_>,\n",
              "   <Movie id:6166268[http] title:_Truevine (None)_>,\n",
              "   <Movie id:5577626[http] title:_Untitled 1980s Mafia Project (None)_>,\n",
              "   <Movie id:2362480[http] title:_Untitled African Animal Poaching Project (None)_>,\n",
              "   <Movie id:3464882[http] title:_Untitled Q-Tip Project (None)_>,\n",
              "   <Movie id:6173480[http] title:_Untitled Sam Phillips Project (None)_>,\n",
              "   <Movie id:1269597[http] title:_Untitled Twilight Zone Project (None)_>,\n",
              "   <Movie id:8430788[http] title:_Untitled Ulysses S. Grant Project (None)_>,\n",
              "   <Movie id:12617672[http] title:_Untitled Virunga Project (None)_>,\n",
              "   <Movie id:5106550[http] title:_Untitled Volkswagon Project (None)_>,\n",
              "   <Movie id:3198096[http] title:_Wilson (None)_>,\n",
              "   <Movie id:5446438[http] title:_Conquest (None)_>],\n",
              "  'name': 'Leonardo DiCaprio'},\n",
              " 'info sets': ('main', 'filmography'),\n",
              " 'namesRefs': {},\n",
              " 'titlesRefs': {}}"
            ]
          },
          "metadata": {},
          "execution_count": 39
        }
      ],
      "source": [
        "# Actor filmography\n",
        "actor_results = ia.get_person_filmography(actor_ID)\n",
        "# printing movie name\n",
        "# Filmography of Leonardo DiCarpio in descending order\n",
        "actor_results"
      ]
    },
    {
      "cell_type": "markdown",
      "source": [
        "#Problem 2\n",
        "\n",
        "Create an ML algorithm to classify the planets as Candidate/False positive/Confirmed etc based on the  column “koi_disposition”.\n"
      ],
      "metadata": {
        "id": "Iupq7HVgpsvD"
      }
    },
    {
      "cell_type": "markdown",
      "source": [
        "## Loading and preparing the data"
      ],
      "metadata": {
        "id": "se4TUsn30QYW"
      }
    },
    {
      "cell_type": "code",
      "source": [
        "data = pd.read_csv(\"/content/cumulative.csv\")\n",
        "data.head(2)"
      ],
      "metadata": {
        "colab": {
          "base_uri": "https://localhost:8080/",
          "height": 0
        },
        "id": "NPnGq6khz0lI",
        "outputId": "9b0f913a-7b48-49d4-c780-f5351cd87f46"
      },
      "execution_count": 174,
      "outputs": [
        {
          "output_type": "execute_result",
          "data": {
            "text/plain": [
              "   rowid     kepid kepoi_name   kepler_name koi_disposition koi_pdisposition  \\\n",
              "0      1  10797460  K00752.01  Kepler-227 b       CONFIRMED        CANDIDATE   \n",
              "1      2  10797460  K00752.02  Kepler-227 c       CONFIRMED        CANDIDATE   \n",
              "\n",
              "   koi_score  koi_fpflag_nt  koi_fpflag_ss  koi_fpflag_co  ...  \\\n",
              "0      1.000              0              0              0  ...   \n",
              "1      0.969              0              0              0  ...   \n",
              "\n",
              "   koi_steff_err2  koi_slogg  koi_slogg_err1  koi_slogg_err2  koi_srad  \\\n",
              "0           -81.0      4.467           0.064          -0.096     0.927   \n",
              "1           -81.0      4.467           0.064          -0.096     0.927   \n",
              "\n",
              "   koi_srad_err1  koi_srad_err2         ra        dec  koi_kepmag  \n",
              "0          0.105         -0.061  291.93423  48.141651      15.347  \n",
              "1          0.105         -0.061  291.93423  48.141651      15.347  \n",
              "\n",
              "[2 rows x 50 columns]"
            ],
            "text/html": [
              "\n",
              "  <div id=\"df-6a4b7196-2b91-43c0-b506-435c84fd9386\">\n",
              "    <div class=\"colab-df-container\">\n",
              "      <div>\n",
              "<style scoped>\n",
              "    .dataframe tbody tr th:only-of-type {\n",
              "        vertical-align: middle;\n",
              "    }\n",
              "\n",
              "    .dataframe tbody tr th {\n",
              "        vertical-align: top;\n",
              "    }\n",
              "\n",
              "    .dataframe thead th {\n",
              "        text-align: right;\n",
              "    }\n",
              "</style>\n",
              "<table border=\"1\" class=\"dataframe\">\n",
              "  <thead>\n",
              "    <tr style=\"text-align: right;\">\n",
              "      <th></th>\n",
              "      <th>rowid</th>\n",
              "      <th>kepid</th>\n",
              "      <th>kepoi_name</th>\n",
              "      <th>kepler_name</th>\n",
              "      <th>koi_disposition</th>\n",
              "      <th>koi_pdisposition</th>\n",
              "      <th>koi_score</th>\n",
              "      <th>koi_fpflag_nt</th>\n",
              "      <th>koi_fpflag_ss</th>\n",
              "      <th>koi_fpflag_co</th>\n",
              "      <th>...</th>\n",
              "      <th>koi_steff_err2</th>\n",
              "      <th>koi_slogg</th>\n",
              "      <th>koi_slogg_err1</th>\n",
              "      <th>koi_slogg_err2</th>\n",
              "      <th>koi_srad</th>\n",
              "      <th>koi_srad_err1</th>\n",
              "      <th>koi_srad_err2</th>\n",
              "      <th>ra</th>\n",
              "      <th>dec</th>\n",
              "      <th>koi_kepmag</th>\n",
              "    </tr>\n",
              "  </thead>\n",
              "  <tbody>\n",
              "    <tr>\n",
              "      <th>0</th>\n",
              "      <td>1</td>\n",
              "      <td>10797460</td>\n",
              "      <td>K00752.01</td>\n",
              "      <td>Kepler-227 b</td>\n",
              "      <td>CONFIRMED</td>\n",
              "      <td>CANDIDATE</td>\n",
              "      <td>1.000</td>\n",
              "      <td>0</td>\n",
              "      <td>0</td>\n",
              "      <td>0</td>\n",
              "      <td>...</td>\n",
              "      <td>-81.0</td>\n",
              "      <td>4.467</td>\n",
              "      <td>0.064</td>\n",
              "      <td>-0.096</td>\n",
              "      <td>0.927</td>\n",
              "      <td>0.105</td>\n",
              "      <td>-0.061</td>\n",
              "      <td>291.93423</td>\n",
              "      <td>48.141651</td>\n",
              "      <td>15.347</td>\n",
              "    </tr>\n",
              "    <tr>\n",
              "      <th>1</th>\n",
              "      <td>2</td>\n",
              "      <td>10797460</td>\n",
              "      <td>K00752.02</td>\n",
              "      <td>Kepler-227 c</td>\n",
              "      <td>CONFIRMED</td>\n",
              "      <td>CANDIDATE</td>\n",
              "      <td>0.969</td>\n",
              "      <td>0</td>\n",
              "      <td>0</td>\n",
              "      <td>0</td>\n",
              "      <td>...</td>\n",
              "      <td>-81.0</td>\n",
              "      <td>4.467</td>\n",
              "      <td>0.064</td>\n",
              "      <td>-0.096</td>\n",
              "      <td>0.927</td>\n",
              "      <td>0.105</td>\n",
              "      <td>-0.061</td>\n",
              "      <td>291.93423</td>\n",
              "      <td>48.141651</td>\n",
              "      <td>15.347</td>\n",
              "    </tr>\n",
              "  </tbody>\n",
              "</table>\n",
              "<p>2 rows × 50 columns</p>\n",
              "</div>\n",
              "      <button class=\"colab-df-convert\" onclick=\"convertToInteractive('df-6a4b7196-2b91-43c0-b506-435c84fd9386')\"\n",
              "              title=\"Convert this dataframe to an interactive table.\"\n",
              "              style=\"display:none;\">\n",
              "        \n",
              "  <svg xmlns=\"http://www.w3.org/2000/svg\" height=\"24px\"viewBox=\"0 0 24 24\"\n",
              "       width=\"24px\">\n",
              "    <path d=\"M0 0h24v24H0V0z\" fill=\"none\"/>\n",
              "    <path d=\"M18.56 5.44l.94 2.06.94-2.06 2.06-.94-2.06-.94-.94-2.06-.94 2.06-2.06.94zm-11 1L8.5 8.5l.94-2.06 2.06-.94-2.06-.94L8.5 2.5l-.94 2.06-2.06.94zm10 10l.94 2.06.94-2.06 2.06-.94-2.06-.94-.94-2.06-.94 2.06-2.06.94z\"/><path d=\"M17.41 7.96l-1.37-1.37c-.4-.4-.92-.59-1.43-.59-.52 0-1.04.2-1.43.59L10.3 9.45l-7.72 7.72c-.78.78-.78 2.05 0 2.83L4 21.41c.39.39.9.59 1.41.59.51 0 1.02-.2 1.41-.59l7.78-7.78 2.81-2.81c.8-.78.8-2.07 0-2.86zM5.41 20L4 18.59l7.72-7.72 1.47 1.35L5.41 20z\"/>\n",
              "  </svg>\n",
              "      </button>\n",
              "      \n",
              "  <style>\n",
              "    .colab-df-container {\n",
              "      display:flex;\n",
              "      flex-wrap:wrap;\n",
              "      gap: 12px;\n",
              "    }\n",
              "\n",
              "    .colab-df-convert {\n",
              "      background-color: #E8F0FE;\n",
              "      border: none;\n",
              "      border-radius: 50%;\n",
              "      cursor: pointer;\n",
              "      display: none;\n",
              "      fill: #1967D2;\n",
              "      height: 32px;\n",
              "      padding: 0 0 0 0;\n",
              "      width: 32px;\n",
              "    }\n",
              "\n",
              "    .colab-df-convert:hover {\n",
              "      background-color: #E2EBFA;\n",
              "      box-shadow: 0px 1px 2px rgba(60, 64, 67, 0.3), 0px 1px 3px 1px rgba(60, 64, 67, 0.15);\n",
              "      fill: #174EA6;\n",
              "    }\n",
              "\n",
              "    [theme=dark] .colab-df-convert {\n",
              "      background-color: #3B4455;\n",
              "      fill: #D2E3FC;\n",
              "    }\n",
              "\n",
              "    [theme=dark] .colab-df-convert:hover {\n",
              "      background-color: #434B5C;\n",
              "      box-shadow: 0px 1px 3px 1px rgba(0, 0, 0, 0.15);\n",
              "      filter: drop-shadow(0px 1px 2px rgba(0, 0, 0, 0.3));\n",
              "      fill: #FFFFFF;\n",
              "    }\n",
              "  </style>\n",
              "\n",
              "      <script>\n",
              "        const buttonEl =\n",
              "          document.querySelector('#df-6a4b7196-2b91-43c0-b506-435c84fd9386 button.colab-df-convert');\n",
              "        buttonEl.style.display =\n",
              "          google.colab.kernel.accessAllowed ? 'block' : 'none';\n",
              "\n",
              "        async function convertToInteractive(key) {\n",
              "          const element = document.querySelector('#df-6a4b7196-2b91-43c0-b506-435c84fd9386');\n",
              "          const dataTable =\n",
              "            await google.colab.kernel.invokeFunction('convertToInteractive',\n",
              "                                                     [key], {});\n",
              "          if (!dataTable) return;\n",
              "\n",
              "          const docLinkHtml = 'Like what you see? Visit the ' +\n",
              "            '<a target=\"_blank\" href=https://colab.research.google.com/notebooks/data_table.ipynb>data table notebook</a>'\n",
              "            + ' to learn more about interactive tables.';\n",
              "          element.innerHTML = '';\n",
              "          dataTable['output_type'] = 'display_data';\n",
              "          await google.colab.output.renderOutput(dataTable, element);\n",
              "          const docLink = document.createElement('div');\n",
              "          docLink.innerHTML = docLinkHtml;\n",
              "          element.appendChild(docLink);\n",
              "        }\n",
              "      </script>\n",
              "    </div>\n",
              "  </div>\n",
              "  "
            ]
          },
          "metadata": {},
          "execution_count": 174
        }
      ]
    },
    {
      "cell_type": "code",
      "source": [
        "print(\"No of rows:\", data.shape[0])\n",
        "print(\"No of columns:\", data.shape[1])"
      ],
      "metadata": {
        "colab": {
          "base_uri": "https://localhost:8080/"
        },
        "id": "EIQx-sEnz_91",
        "outputId": "bb6f91ea-2fb5-4aca-98e8-d768a2b203cf"
      },
      "execution_count": 175,
      "outputs": [
        {
          "output_type": "stream",
          "name": "stdout",
          "text": [
            "No of rows: 9564\n",
            "No of columns: 50\n"
          ]
        }
      ]
    },
    {
      "cell_type": "code",
      "source": [
        "# Checking for missing values\n",
        "data.isnull().sum()"
      ],
      "metadata": {
        "colab": {
          "base_uri": "https://localhost:8080/"
        },
        "id": "XM5Em5e40Orm",
        "outputId": "b9104b52-aa53-4a43-de04-8c02898e0305"
      },
      "execution_count": 176,
      "outputs": [
        {
          "output_type": "execute_result",
          "data": {
            "text/plain": [
              "rowid                   0\n",
              "kepid                   0\n",
              "kepoi_name              0\n",
              "kepler_name          7270\n",
              "koi_disposition         0\n",
              "koi_pdisposition        0\n",
              "koi_score            1510\n",
              "koi_fpflag_nt           0\n",
              "koi_fpflag_ss           0\n",
              "koi_fpflag_co           0\n",
              "koi_fpflag_ec           0\n",
              "koi_period              0\n",
              "koi_period_err1       454\n",
              "koi_period_err2       454\n",
              "koi_time0bk             0\n",
              "koi_time0bk_err1      454\n",
              "koi_time0bk_err2      454\n",
              "koi_impact            363\n",
              "koi_impact_err1       454\n",
              "koi_impact_err2       454\n",
              "koi_duration            0\n",
              "koi_duration_err1     454\n",
              "koi_duration_err2     454\n",
              "koi_depth             363\n",
              "koi_depth_err1        454\n",
              "koi_depth_err2        454\n",
              "koi_prad              363\n",
              "koi_prad_err1         363\n",
              "koi_prad_err2         363\n",
              "koi_teq               363\n",
              "koi_teq_err1         9564\n",
              "koi_teq_err2         9564\n",
              "koi_insol             321\n",
              "koi_insol_err1        321\n",
              "koi_insol_err2        321\n",
              "koi_model_snr         363\n",
              "koi_tce_plnt_num      346\n",
              "koi_tce_delivname     346\n",
              "koi_steff             363\n",
              "koi_steff_err1        468\n",
              "koi_steff_err2        483\n",
              "koi_slogg             363\n",
              "koi_slogg_err1        468\n",
              "koi_slogg_err2        468\n",
              "koi_srad              363\n",
              "koi_srad_err1         468\n",
              "koi_srad_err2         468\n",
              "ra                      0\n",
              "dec                     0\n",
              "koi_kepmag              1\n",
              "dtype: int64"
            ]
          },
          "metadata": {},
          "execution_count": 176
        }
      ]
    },
    {
      "cell_type": "code",
      "source": [
        "# Target column\n",
        "data['koi_disposition'].value_counts()"
      ],
      "metadata": {
        "colab": {
          "base_uri": "https://localhost:8080/"
        },
        "id": "WR8pE7070-Kx",
        "outputId": "c9d036c1-f435-49e6-c08d-7bdf2ef9a2ec"
      },
      "execution_count": 177,
      "outputs": [
        {
          "output_type": "execute_result",
          "data": {
            "text/plain": [
              "FALSE POSITIVE    5023\n",
              "CONFIRMED         2293\n",
              "CANDIDATE         2248\n",
              "Name: koi_disposition, dtype: int64"
            ]
          },
          "metadata": {},
          "execution_count": 177
        }
      ]
    },
    {
      "cell_type": "code",
      "source": [
        "data['koi_pdisposition'].value_counts()"
      ],
      "metadata": {
        "colab": {
          "base_uri": "https://localhost:8080/"
        },
        "id": "KXiJIJtz1FwX",
        "outputId": "1f385147-713c-4cc9-9aa5-a675549ef4cf"
      },
      "execution_count": 178,
      "outputs": [
        {
          "output_type": "execute_result",
          "data": {
            "text/plain": [
              "FALSE POSITIVE    5068\n",
              "CANDIDATE         4496\n",
              "Name: koi_pdisposition, dtype: int64"
            ]
          },
          "metadata": {},
          "execution_count": 178
        }
      ]
    },
    {
      "cell_type": "code",
      "source": [
        "# dropping redundant columns\n",
        "data = data.drop(['rowid', 'kepid', 'kepoi_name', 'kepler_name',  'koi_pdisposition' , 'koi_teq_err1', 'koi_teq_err2'], axis = 1)\n",
        "print(data.shape)\n",
        "print()\n",
        "data.isnull().sum()"
      ],
      "metadata": {
        "colab": {
          "base_uri": "https://localhost:8080/"
        },
        "id": "v2Xv-uCs0h01",
        "outputId": "e699bd5f-e08e-460d-868f-8258cbb94376"
      },
      "execution_count": 179,
      "outputs": [
        {
          "output_type": "stream",
          "name": "stdout",
          "text": [
            "(9564, 43)\n",
            "\n"
          ]
        },
        {
          "output_type": "execute_result",
          "data": {
            "text/plain": [
              "koi_disposition         0\n",
              "koi_score            1510\n",
              "koi_fpflag_nt           0\n",
              "koi_fpflag_ss           0\n",
              "koi_fpflag_co           0\n",
              "koi_fpflag_ec           0\n",
              "koi_period              0\n",
              "koi_period_err1       454\n",
              "koi_period_err2       454\n",
              "koi_time0bk             0\n",
              "koi_time0bk_err1      454\n",
              "koi_time0bk_err2      454\n",
              "koi_impact            363\n",
              "koi_impact_err1       454\n",
              "koi_impact_err2       454\n",
              "koi_duration            0\n",
              "koi_duration_err1     454\n",
              "koi_duration_err2     454\n",
              "koi_depth             363\n",
              "koi_depth_err1        454\n",
              "koi_depth_err2        454\n",
              "koi_prad              363\n",
              "koi_prad_err1         363\n",
              "koi_prad_err2         363\n",
              "koi_teq               363\n",
              "koi_insol             321\n",
              "koi_insol_err1        321\n",
              "koi_insol_err2        321\n",
              "koi_model_snr         363\n",
              "koi_tce_plnt_num      346\n",
              "koi_tce_delivname     346\n",
              "koi_steff             363\n",
              "koi_steff_err1        468\n",
              "koi_steff_err2        483\n",
              "koi_slogg             363\n",
              "koi_slogg_err1        468\n",
              "koi_slogg_err2        468\n",
              "koi_srad              363\n",
              "koi_srad_err1         468\n",
              "koi_srad_err2         468\n",
              "ra                      0\n",
              "dec                     0\n",
              "koi_kepmag              1\n",
              "dtype: int64"
            ]
          },
          "metadata": {},
          "execution_count": 179
        }
      ]
    },
    {
      "cell_type": "code",
      "source": [
        "# Dropping the Null values\n",
        "data = data.dropna()\n",
        "data.shape"
      ],
      "metadata": {
        "colab": {
          "base_uri": "https://localhost:8080/"
        },
        "id": "xuJWbuVq4FU-",
        "outputId": "68726491-5c94-4a51-e536-e53b0467ffbc"
      },
      "execution_count": 180,
      "outputs": [
        {
          "output_type": "execute_result",
          "data": {
            "text/plain": [
              "(7803, 43)"
            ]
          },
          "metadata": {},
          "execution_count": 180
        }
      ]
    },
    {
      "cell_type": "code",
      "source": [
        "# Datatypes \n",
        "data.dtypes"
      ],
      "metadata": {
        "colab": {
          "base_uri": "https://localhost:8080/"
        },
        "id": "Fuj_BMt84WSr",
        "outputId": "e9d362a4-15db-4ebf-8048-2fd2f8d4e18d"
      },
      "execution_count": 181,
      "outputs": [
        {
          "output_type": "execute_result",
          "data": {
            "text/plain": [
              "koi_disposition       object\n",
              "koi_score            float64\n",
              "koi_fpflag_nt          int64\n",
              "koi_fpflag_ss          int64\n",
              "koi_fpflag_co          int64\n",
              "koi_fpflag_ec          int64\n",
              "koi_period           float64\n",
              "koi_period_err1      float64\n",
              "koi_period_err2      float64\n",
              "koi_time0bk          float64\n",
              "koi_time0bk_err1     float64\n",
              "koi_time0bk_err2     float64\n",
              "koi_impact           float64\n",
              "koi_impact_err1      float64\n",
              "koi_impact_err2      float64\n",
              "koi_duration         float64\n",
              "koi_duration_err1    float64\n",
              "koi_duration_err2    float64\n",
              "koi_depth            float64\n",
              "koi_depth_err1       float64\n",
              "koi_depth_err2       float64\n",
              "koi_prad             float64\n",
              "koi_prad_err1        float64\n",
              "koi_prad_err2        float64\n",
              "koi_teq              float64\n",
              "koi_insol            float64\n",
              "koi_insol_err1       float64\n",
              "koi_insol_err2       float64\n",
              "koi_model_snr        float64\n",
              "koi_tce_plnt_num     float64\n",
              "koi_tce_delivname     object\n",
              "koi_steff            float64\n",
              "koi_steff_err1       float64\n",
              "koi_steff_err2       float64\n",
              "koi_slogg            float64\n",
              "koi_slogg_err1       float64\n",
              "koi_slogg_err2       float64\n",
              "koi_srad             float64\n",
              "koi_srad_err1        float64\n",
              "koi_srad_err2        float64\n",
              "ra                   float64\n",
              "dec                  float64\n",
              "koi_kepmag           float64\n",
              "dtype: object"
            ]
          },
          "metadata": {},
          "execution_count": 181
        }
      ]
    },
    {
      "cell_type": "code",
      "source": [
        "data['koi_tce_delivname'].value_counts()"
      ],
      "metadata": {
        "colab": {
          "base_uri": "https://localhost:8080/"
        },
        "id": "D5jR7czU4ebt",
        "outputId": "eb9b094e-9c52-424e-efd4-4fef5e0654cd"
      },
      "execution_count": 182,
      "outputs": [
        {
          "output_type": "execute_result",
          "data": {
            "text/plain": [
              "q1_q17_dr25_tce    7803\n",
              "Name: koi_tce_delivname, dtype: int64"
            ]
          },
          "metadata": {},
          "execution_count": 182
        }
      ]
    },
    {
      "cell_type": "code",
      "source": [
        "# Column koi_tce_delivname has same value across all the rows so this column is redundant\n",
        "data = data.drop(\"koi_tce_delivname\", axis = 1)\n",
        "data.shape"
      ],
      "metadata": {
        "colab": {
          "base_uri": "https://localhost:8080/"
        },
        "id": "qsoZyhBV4m4V",
        "outputId": "7987db6f-7f0d-4a52-f3fa-445172ec56fc"
      },
      "execution_count": 183,
      "outputs": [
        {
          "output_type": "execute_result",
          "data": {
            "text/plain": [
              "(7803, 42)"
            ]
          },
          "metadata": {},
          "execution_count": 183
        }
      ]
    },
    {
      "cell_type": "code",
      "source": [
        "data.isnull().sum()"
      ],
      "metadata": {
        "colab": {
          "base_uri": "https://localhost:8080/"
        },
        "id": "SCUm3oI-53Zx",
        "outputId": "6f1fb577-c1b0-48f4-96e3-89e9a20eeb11"
      },
      "execution_count": 184,
      "outputs": [
        {
          "output_type": "execute_result",
          "data": {
            "text/plain": [
              "koi_disposition      0\n",
              "koi_score            0\n",
              "koi_fpflag_nt        0\n",
              "koi_fpflag_ss        0\n",
              "koi_fpflag_co        0\n",
              "koi_fpflag_ec        0\n",
              "koi_period           0\n",
              "koi_period_err1      0\n",
              "koi_period_err2      0\n",
              "koi_time0bk          0\n",
              "koi_time0bk_err1     0\n",
              "koi_time0bk_err2     0\n",
              "koi_impact           0\n",
              "koi_impact_err1      0\n",
              "koi_impact_err2      0\n",
              "koi_duration         0\n",
              "koi_duration_err1    0\n",
              "koi_duration_err2    0\n",
              "koi_depth            0\n",
              "koi_depth_err1       0\n",
              "koi_depth_err2       0\n",
              "koi_prad             0\n",
              "koi_prad_err1        0\n",
              "koi_prad_err2        0\n",
              "koi_teq              0\n",
              "koi_insol            0\n",
              "koi_insol_err1       0\n",
              "koi_insol_err2       0\n",
              "koi_model_snr        0\n",
              "koi_tce_plnt_num     0\n",
              "koi_steff            0\n",
              "koi_steff_err1       0\n",
              "koi_steff_err2       0\n",
              "koi_slogg            0\n",
              "koi_slogg_err1       0\n",
              "koi_slogg_err2       0\n",
              "koi_srad             0\n",
              "koi_srad_err1        0\n",
              "koi_srad_err2        0\n",
              "ra                   0\n",
              "dec                  0\n",
              "koi_kepmag           0\n",
              "dtype: int64"
            ]
          },
          "metadata": {},
          "execution_count": 184
        }
      ]
    },
    {
      "cell_type": "markdown",
      "source": [
        "## Feature selection"
      ],
      "metadata": {
        "id": "WXYyspzC5k50"
      }
    },
    {
      "cell_type": "code",
      "source": [
        "y = data['koi_disposition']\n",
        "x = data.drop('koi_disposition', axis = 1)"
      ],
      "metadata": {
        "id": "3G8wQf1D4w93"
      },
      "execution_count": 185,
      "outputs": []
    },
    {
      "cell_type": "code",
      "source": [
        "from sklearn.model_selection import train_test_split\n",
        "X_train,X_test,y_train, y_test = train_test_split(x,y, test_size=0.3, random_state = 0)\n",
        "print(X_train.shape)\n",
        "print(X_test.shape)\n",
        "print(y_train.shape)\n",
        "print(y_test.shape)"
      ],
      "metadata": {
        "colab": {
          "base_uri": "https://localhost:8080/"
        },
        "id": "yYjTTCDs60-0",
        "outputId": "3e0d5eeb-5f6d-464f-8a41-e400ace38261"
      },
      "execution_count": 186,
      "outputs": [
        {
          "output_type": "stream",
          "name": "stdout",
          "text": [
            "(5462, 41)\n",
            "(2341, 41)\n",
            "(5462,)\n",
            "(2341,)\n"
          ]
        }
      ]
    },
    {
      "cell_type": "code",
      "source": [
        "from sklearn.ensemble import RandomForestClassifier\n",
        "from sklearn.feature_selection import SelectFromModel\n",
        "rf = RandomForestClassifier(random_state = 0, n_estimators = 100)\n",
        "rf.fit(X_train, y_train)\n",
        "imp_feat = list(zip(x.columns, rf.feature_importances_))\n",
        "imp_feat"
      ],
      "metadata": {
        "colab": {
          "base_uri": "https://localhost:8080/"
        },
        "id": "X4Djngtl8wlm",
        "outputId": "8330bcc8-31e2-426b-db5a-bb890b9f8769"
      },
      "execution_count": 187,
      "outputs": [
        {
          "output_type": "execute_result",
          "data": {
            "text/plain": [
              "[('koi_score', 0.24241465002507723),\n",
              " ('koi_fpflag_nt', 0.03117695326695575),\n",
              " ('koi_fpflag_ss', 0.0479062101696031),\n",
              " ('koi_fpflag_co', 0.07650444756673015),\n",
              " ('koi_fpflag_ec', 0.019228864843063256),\n",
              " ('koi_period', 0.014362880860995388),\n",
              " ('koi_period_err1', 0.011604040339952455),\n",
              " ('koi_period_err2', 0.01054986926108522),\n",
              " ('koi_time0bk', 0.011173647794868203),\n",
              " ('koi_time0bk_err1', 0.022708880995145894),\n",
              " ('koi_time0bk_err2', 0.01964803031026614),\n",
              " ('koi_impact', 0.019133533310725877),\n",
              " ('koi_impact_err1', 0.009538692076058291),\n",
              " ('koi_impact_err2', 0.009442670175399822),\n",
              " ('koi_duration', 0.019639441286486946),\n",
              " ('koi_duration_err1', 0.021336230070382465),\n",
              " ('koi_duration_err2', 0.027416283709405537),\n",
              " ('koi_depth', 0.016619512021005787),\n",
              " ('koi_depth_err1', 0.011176133949374237),\n",
              " ('koi_depth_err2', 0.01087711589230971),\n",
              " ('koi_prad', 0.03998049840805436),\n",
              " ('koi_prad_err1', 0.029881480887202425),\n",
              " ('koi_prad_err2', 0.0367271747637725),\n",
              " ('koi_teq', 0.012507006376046445),\n",
              " ('koi_insol', 0.012320862938440279),\n",
              " ('koi_insol_err1', 0.017397829270110205),\n",
              " ('koi_insol_err2', 0.014333872071277797),\n",
              " ('koi_model_snr', 0.05867400987963371),\n",
              " ('koi_tce_plnt_num', 0.0024917116542659177),\n",
              " ('koi_steff', 0.00820347858603761),\n",
              " ('koi_steff_err1', 0.019207226059200215),\n",
              " ('koi_steff_err2', 0.022061479333138633),\n",
              " ('koi_slogg', 0.00749583321995585),\n",
              " ('koi_slogg_err1', 0.0072979244166173),\n",
              " ('koi_slogg_err2', 0.00784703024679148),\n",
              " ('koi_srad', 0.007498722603297333),\n",
              " ('koi_srad_err1', 0.00830412336663649),\n",
              " ('koi_srad_err2', 0.006949659064154608),\n",
              " ('ra', 0.009743328412939428),\n",
              " ('dec', 0.009188651771640683),\n",
              " ('koi_kepmag', 0.009430008745895386)]"
            ]
          },
          "metadata": {},
          "execution_count": 187
        }
      ]
    },
    {
      "cell_type": "code",
      "source": [
        "sel = SelectFromModel(RandomForestClassifier(random_state = 0, n_estimators = 100), threshold = 0.01)\n",
        "sel.fit(X_train, y_train)"
      ],
      "metadata": {
        "colab": {
          "base_uri": "https://localhost:8080/"
        },
        "id": "huXuVr8C7HhH",
        "outputId": "cb3cd0f0-8894-4474-9074-bcbd64b4dcf6"
      },
      "execution_count": 188,
      "outputs": [
        {
          "output_type": "execute_result",
          "data": {
            "text/plain": [
              "SelectFromModel(estimator=RandomForestClassifier(random_state=0),\n",
              "                threshold=0.01)"
            ]
          },
          "metadata": {},
          "execution_count": 188
        }
      ]
    },
    {
      "cell_type": "code",
      "source": [
        "selected_feat= X_train.columns[(sel.get_support())]\n",
        "print(len(selected_feat))"
      ],
      "metadata": {
        "colab": {
          "base_uri": "https://localhost:8080/"
        },
        "id": "rraskB-C72cM",
        "outputId": "fd385ffb-7424-4cb9-e2a6-ddb3d94defcd"
      },
      "execution_count": 189,
      "outputs": [
        {
          "output_type": "stream",
          "name": "stdout",
          "text": [
            "28\n"
          ]
        }
      ]
    },
    {
      "cell_type": "code",
      "source": [
        "print(\"Selected Features:\\n\", list(selected_feat))"
      ],
      "metadata": {
        "colab": {
          "base_uri": "https://localhost:8080/"
        },
        "id": "5cAhouSo8HXr",
        "outputId": "86b28e1c-2f4f-426b-80d7-643cf03b1a10"
      },
      "execution_count": 190,
      "outputs": [
        {
          "output_type": "stream",
          "name": "stdout",
          "text": [
            "Selected Features:\n",
            " ['koi_score', 'koi_fpflag_nt', 'koi_fpflag_ss', 'koi_fpflag_co', 'koi_fpflag_ec', 'koi_period', 'koi_period_err1', 'koi_period_err2', 'koi_time0bk', 'koi_time0bk_err1', 'koi_time0bk_err2', 'koi_impact', 'koi_duration', 'koi_duration_err1', 'koi_duration_err2', 'koi_depth', 'koi_depth_err1', 'koi_depth_err2', 'koi_prad', 'koi_prad_err1', 'koi_prad_err2', 'koi_teq', 'koi_insol', 'koi_insol_err1', 'koi_insol_err2', 'koi_model_snr', 'koi_steff_err1', 'koi_steff_err2']\n"
          ]
        }
      ]
    },
    {
      "cell_type": "code",
      "source": [
        "x_new = x[list(selected_feat)]\n",
        "print(x_new.shape)"
      ],
      "metadata": {
        "colab": {
          "base_uri": "https://localhost:8080/"
        },
        "id": "VFpgBBsX-dR8",
        "outputId": "32e9f8ea-2e8d-45ac-ef61-03c49dd33f98"
      },
      "execution_count": 191,
      "outputs": [
        {
          "output_type": "stream",
          "name": "stdout",
          "text": [
            "(7803, 28)\n"
          ]
        }
      ]
    },
    {
      "cell_type": "code",
      "source": [
        "X_trainn,X_testn,y_trainn, y_testn = train_test_split(x_new,y, test_size=0.3, random_state = 0)\n",
        "print(X_trainn.shape)\n",
        "print(X_testn.shape)\n",
        "print(y_trainn.shape)\n",
        "print(y_testn.shape)"
      ],
      "metadata": {
        "colab": {
          "base_uri": "https://localhost:8080/"
        },
        "id": "SYD4ZZGG-_L9",
        "outputId": "846734c2-5711-4549-e1ec-24ffb584b0b0"
      },
      "execution_count": 192,
      "outputs": [
        {
          "output_type": "stream",
          "name": "stdout",
          "text": [
            "(5462, 28)\n",
            "(2341, 28)\n",
            "(5462,)\n",
            "(2341,)\n"
          ]
        }
      ]
    },
    {
      "cell_type": "markdown",
      "source": [
        "## Training the models"
      ],
      "metadata": {
        "id": "TSIMRMM7Acsz"
      }
    },
    {
      "cell_type": "markdown",
      "source": [
        "## Logistic Regression"
      ],
      "metadata": {
        "id": "L4T0Czv5AmB7"
      }
    },
    {
      "cell_type": "code",
      "source": [
        "from sklearn.linear_model import LogisticRegression\n",
        "lr = LogisticRegression(random_state=0)\n",
        "lr.fit(X_train, y_train)"
      ],
      "metadata": {
        "colab": {
          "base_uri": "https://localhost:8080/"
        },
        "id": "A1VEFP-TAe7T",
        "outputId": "fcbab149-fff3-4e0d-aae8-7133ff9bc23a"
      },
      "execution_count": 193,
      "outputs": [
        {
          "output_type": "stream",
          "name": "stderr",
          "text": [
            "/usr/local/lib/python3.7/dist-packages/sklearn/linear_model/_logistic.py:818: ConvergenceWarning: lbfgs failed to converge (status=1):\n",
            "STOP: TOTAL NO. of ITERATIONS REACHED LIMIT.\n",
            "\n",
            "Increase the number of iterations (max_iter) or scale the data as shown in:\n",
            "    https://scikit-learn.org/stable/modules/preprocessing.html\n",
            "Please also refer to the documentation for alternative solver options:\n",
            "    https://scikit-learn.org/stable/modules/linear_model.html#logistic-regression\n",
            "  extra_warning_msg=_LOGISTIC_SOLVER_CONVERGENCE_MSG,\n"
          ]
        },
        {
          "output_type": "execute_result",
          "data": {
            "text/plain": [
              "LogisticRegression(random_state=0)"
            ]
          },
          "metadata": {},
          "execution_count": 193
        }
      ]
    },
    {
      "cell_type": "code",
      "source": [
        "y_pred = lr.predict(X_test)\n",
        "from sklearn.metrics import classification_report\n",
        "cr = classification_report(y_test, y_pred, digits = 4)\n",
        "print(cr)"
      ],
      "metadata": {
        "colab": {
          "base_uri": "https://localhost:8080/"
        },
        "id": "B6vjGOodBSy5",
        "outputId": "a6731a9a-fb13-41c8-8e84-7949e569e8ad"
      },
      "execution_count": 194,
      "outputs": [
        {
          "output_type": "stream",
          "name": "stdout",
          "text": [
            "                precision    recall  f1-score   support\n",
            "\n",
            "     CANDIDATE     0.0000    0.0000    0.0000       508\n",
            "     CONFIRMED     0.4895    0.8374    0.6178       695\n",
            "FALSE POSITIVE     0.7830    0.7926    0.7878      1138\n",
            "\n",
            "      accuracy                         0.6339      2341\n",
            "     macro avg     0.4242    0.5433    0.4685      2341\n",
            "  weighted avg     0.5259    0.6339    0.5664      2341\n",
            "\n"
          ]
        },
        {
          "output_type": "stream",
          "name": "stderr",
          "text": [
            "/usr/local/lib/python3.7/dist-packages/sklearn/metrics/_classification.py:1318: UndefinedMetricWarning: Precision and F-score are ill-defined and being set to 0.0 in labels with no predicted samples. Use `zero_division` parameter to control this behavior.\n",
            "  _warn_prf(average, modifier, msg_start, len(result))\n",
            "/usr/local/lib/python3.7/dist-packages/sklearn/metrics/_classification.py:1318: UndefinedMetricWarning: Precision and F-score are ill-defined and being set to 0.0 in labels with no predicted samples. Use `zero_division` parameter to control this behavior.\n",
            "  _warn_prf(average, modifier, msg_start, len(result))\n",
            "/usr/local/lib/python3.7/dist-packages/sklearn/metrics/_classification.py:1318: UndefinedMetricWarning: Precision and F-score are ill-defined and being set to 0.0 in labels with no predicted samples. Use `zero_division` parameter to control this behavior.\n",
            "  _warn_prf(average, modifier, msg_start, len(result))\n"
          ]
        }
      ]
    },
    {
      "cell_type": "markdown",
      "source": [
        "## Decision Tree"
      ],
      "metadata": {
        "id": "YAPkg4psBm93"
      }
    },
    {
      "cell_type": "code",
      "source": [
        "from sklearn.tree import DecisionTreeClassifier\n",
        "dt = DecisionTreeClassifier(random_state = 0, max_leaf_nodes = 6)\n",
        "dt.fit(X_train, y_train)"
      ],
      "metadata": {
        "colab": {
          "base_uri": "https://localhost:8080/"
        },
        "id": "iL1ne0ilBpII",
        "outputId": "bf41b2bb-f7c6-45ae-a5d9-7dfc63d37aaa"
      },
      "execution_count": 195,
      "outputs": [
        {
          "output_type": "execute_result",
          "data": {
            "text/plain": [
              "DecisionTreeClassifier(max_leaf_nodes=6, random_state=0)"
            ]
          },
          "metadata": {},
          "execution_count": 195
        }
      ]
    },
    {
      "cell_type": "code",
      "source": [
        "y_pred = dt.predict(X_test)\n",
        "from sklearn.metrics import classification_report\n",
        "cr = classification_report(y_test, y_pred, digits = 4)\n",
        "print(cr)"
      ],
      "metadata": {
        "colab": {
          "base_uri": "https://localhost:8080/"
        },
        "id": "cIVBHN5qB3xQ",
        "outputId": "3a91cba0-d600-4a62-c421-f27a41beb783"
      },
      "execution_count": 196,
      "outputs": [
        {
          "output_type": "stream",
          "name": "stdout",
          "text": [
            "                precision    recall  f1-score   support\n",
            "\n",
            "     CANDIDATE     0.6992    0.6496    0.6735       508\n",
            "     CONFIRMED     0.7614    0.7942    0.7775       695\n",
            "FALSE POSITIVE     0.9781    0.9833    0.9807      1138\n",
            "\n",
            "      accuracy                         0.8548      2341\n",
            "     macro avg     0.8129    0.8091    0.8106      2341\n",
            "  weighted avg     0.8533    0.8548    0.8537      2341\n",
            "\n"
          ]
        }
      ]
    },
    {
      "cell_type": "markdown",
      "source": [
        "## Random Forest"
      ],
      "metadata": {
        "id": "JJQG2v-XCHiS"
      }
    },
    {
      "cell_type": "code",
      "source": [
        "from sklearn.ensemble import RandomForestClassifier\n",
        "rf = RandomForestClassifier(random_state = 0, n_estimators = 500, max_leaf_nodes = 6)\n",
        "rf.fit(X_train, y_train)"
      ],
      "metadata": {
        "colab": {
          "base_uri": "https://localhost:8080/"
        },
        "id": "Jbo9LwdhCJfw",
        "outputId": "de738f3e-9f26-4799-f685-3315c8fb7885"
      },
      "execution_count": 197,
      "outputs": [
        {
          "output_type": "execute_result",
          "data": {
            "text/plain": [
              "RandomForestClassifier(max_leaf_nodes=6, n_estimators=500, random_state=0)"
            ]
          },
          "metadata": {},
          "execution_count": 197
        }
      ]
    },
    {
      "cell_type": "code",
      "source": [
        "y_pred = rf.predict(X_test)\n",
        "from sklearn.metrics import classification_report\n",
        "cr = classification_report(y_test, y_pred, digits = 4)\n",
        "print(cr)"
      ],
      "metadata": {
        "colab": {
          "base_uri": "https://localhost:8080/"
        },
        "id": "f6QiBMWfC6dM",
        "outputId": "687ab3c5-f31d-4cb4-87d6-dcd01cd50109"
      },
      "execution_count": 198,
      "outputs": [
        {
          "output_type": "stream",
          "name": "stdout",
          "text": [
            "                precision    recall  f1-score   support\n",
            "\n",
            "     CANDIDATE     0.7324    0.5335    0.6173       508\n",
            "     CONFIRMED     0.7526    0.8317    0.7902       695\n",
            "FALSE POSITIVE     0.9418    0.9956    0.9680      1138\n",
            "\n",
            "      accuracy                         0.8466      2341\n",
            "     macro avg     0.8089    0.7869    0.7918      2341\n",
            "  weighted avg     0.8402    0.8466    0.8391      2341\n",
            "\n"
          ]
        }
      ]
    },
    {
      "cell_type": "markdown",
      "source": [
        "## XGBoost"
      ],
      "metadata": {
        "id": "ZbWwNvRMDLC4"
      }
    },
    {
      "cell_type": "code",
      "source": [
        "from xgboost import XGBClassifier\n",
        "xgb = XGBClassifier(random_state = 0, n_estimators = 600, max_leaf_nodes = 5)\n",
        "xgb.fit(X_train, y_train)"
      ],
      "metadata": {
        "colab": {
          "base_uri": "https://localhost:8080/"
        },
        "id": "FHpIpcHKDMlM",
        "outputId": "da27949d-9cfe-4756-c1b7-6484a2f01521"
      },
      "execution_count": 199,
      "outputs": [
        {
          "output_type": "execute_result",
          "data": {
            "text/plain": [
              "XGBClassifier(max_leaf_nodes=5, n_estimators=600, objective='multi:softprob')"
            ]
          },
          "metadata": {},
          "execution_count": 199
        }
      ]
    },
    {
      "cell_type": "code",
      "source": [
        "y_pred = xgb.predict(X_test)\n",
        "from sklearn.metrics import classification_report\n",
        "cr = classification_report(y_test, y_pred, digits = 4)\n",
        "print(cr)"
      ],
      "metadata": {
        "colab": {
          "base_uri": "https://localhost:8080/"
        },
        "id": "KarSgADrHzJ_",
        "outputId": "237a2bff-9a0c-4731-8cd3-89368800cabd"
      },
      "execution_count": 200,
      "outputs": [
        {
          "output_type": "stream",
          "name": "stdout",
          "text": [
            "                precision    recall  f1-score   support\n",
            "\n",
            "     CANDIDATE     0.7663    0.7165    0.7406       508\n",
            "     CONFIRMED     0.7981    0.8302    0.8138       695\n",
            "FALSE POSITIVE     0.9878    0.9921    0.9899      1138\n",
            "\n",
            "      accuracy                         0.8842      2341\n",
            "     macro avg     0.8507    0.8463    0.8481      2341\n",
            "  weighted avg     0.8834    0.8842    0.8835      2341\n",
            "\n"
          ]
        }
      ]
    },
    {
      "cell_type": "markdown",
      "source": [
        "# Sub-questions for Problem 2"
      ],
      "metadata": {
        "id": "T0D8MfNvP2I1"
      }
    },
    {
      "cell_type": "markdown",
      "source": [
        "1. Why did you choose the particular algorithm?\n",
        "\n",
        "Ans: I have tried various classical machine learning algorithms. XGBoost gave the highest accuracy so this is the best model. This is an boosting algorithm which reduces the overfitting."
      ],
      "metadata": {
        "id": "oCp4b64WIgHo"
      }
    },
    {
      "cell_type": "markdown",
      "source": [
        "2. What are the different tuning methods used for the algorithm?\n",
        "\n",
        "Ans: I increased the number of trees and also tried with different values of max_leaf_nodes."
      ],
      "metadata": {
        "id": "ytev8csRKLqx"
      }
    },
    {
      "cell_type": "markdown",
      "source": [
        "3. Did you consider any other choice of algorithm?Why or why not?\n",
        "\n",
        "Ans: I have tried various other classical machine learning algorithms such as:\n",
        "\n",
        "1. Logistic Regression\n",
        "\n",
        "2. Decision Tree\n",
        "\n",
        "3. Random Forest\n",
        "\n",
        "4. XGBoost"
      ],
      "metadata": {
        "id": "97iEmNBOLQB1"
      }
    },
    {
      "cell_type": "markdown",
      "source": [
        "4. What is the accuracy?\n",
        "\n",
        "Ans: I have achieved highest accuracy with XGBoost i.e 88%.\n"
      ],
      "metadata": {
        "id": "n0hdsIXUL3TR"
      }
    },
    {
      "cell_type": "markdown",
      "source": [
        "5. What are the different types of metrics that can be used to evaluate the model?\n",
        "\n",
        "Ans: The different types of metrics that can be used to evaluate the models are:\n",
        "\n",
        "1. Accuracy: Accuracy is the number of correctly predicted data points out of all the data points.\n",
        "\n",
        "2. Precision:  Precision refers to the number of true positives divided by the total number of positive predictions (i.e., the number of true positives plus the number of false positives).\n",
        "\n",
        "3. Recall: Mathematically, we define recall as the number of true positives divided by the number of true positives plus the number of false negatives.\n",
        "\n",
        "4. F1-score:  F1 score is defined as the harmonic mean between precision and recall. F1 score is used when dealing with imbalanced data as accuracy is not the preferred metric in these cases."
      ],
      "metadata": {
        "id": "gz7Bbfg2Mblv"
      }
    }
  ]
}